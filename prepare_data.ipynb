{
 "cells": [
  {
   "cell_type": "markdown",
   "id": "f53dcb2e-f7b1-4d02-b160-49c85c9aa673",
   "metadata": {},
   "source": [
    "# Create dataset"
   ]
  },
  {
   "cell_type": "code",
   "execution_count": null,
   "id": "1a57b68d-90d0-4a5f-85a1-ebd1f62b6db6",
   "metadata": {
    "tags": []
   },
   "outputs": [],
   "source": [
    "%%sh\n",
    "# Create bucket\n",
    "export BUCKET=<bucket_name>\n",
    "# Either manually or runnin: gsutil mb -c standard -l us-central1 gs://$BUCKET\n",
    "\n",
    "# Move data from repo to local, then to bucket\n",
    "git clone 'https://github.com/ardamavi/Sign-Language-Digits-Dataset.git'\n",
    "gsutil -m cp -r -q ./Sign-Language-Digits-Dataset/Dataset/* gs://${BUCKET}\n"
   ]
  },
  {
   "cell_type": "code",
   "execution_count": null,
   "id": "15cf6c07-b6ec-4c01-ae6c-c1ca1f816b70",
   "metadata": {
    "tags": []
   },
   "outputs": [],
   "source": [
    "%%sh\n",
    "# Create Vertex dataset\n",
    "export IMPORT_DATA=data.csv\n",
    "gsutil ls -r gs://$BUCKET/** > tmp.csv\n",
    "sed -i '1d' tmp.csv\n",
    "cat tmp.csv | while read line ; do echo $line ',' $(basename $(dirname $line)) ; done > $IMPORT_DATA\n",
    "\n",
    "wc -l $IMPORT_DATA #2062\n",
    "\n",
    "gsutil cp $IMPORT_DATA gs://${BUCKET}\n",
    "rm tmp.csv\n"
   ]
  },
  {
   "cell_type": "markdown",
   "id": "e5815e1e-143d-472f-88e9-dfd091c4f67f",
   "metadata": {},
   "source": [
    "# Visualize dataset"
   ]
  },
  {
   "cell_type": "code",
   "execution_count": null,
   "id": "6a9df2de-ab3a-4718-8f0b-b1b02524099f",
   "metadata": {},
   "outputs": [],
   "source": [
    "import os\n",
    "import collections\n",
    "import matplotlib.pyplot as plt\n",
    "import matplotlib.image as mpimg"
   ]
  },
  {
   "cell_type": "code",
   "execution_count": null,
   "id": "51802ff7-c5d0-48a4-88e7-e72c8d733047",
   "metadata": {},
   "outputs": [],
   "source": [
    "# Single image\n",
    "img_file = \"./Sign-Language-Digits-Dataset/Dataset/0/IMG_1118.JPG\"\n",
    "img = mpimg.imread(img_file)\n",
    "\n",
    "# Dimensions\n",
    "print(f\"Shape: {img.shape}\")\n",
    "print(f\"Mean: {img.mean():.02f}, Min: {img.min()}, Max: {img.max()}\")\n",
    "\n",
    "# Visualize\n",
    "imgplot = plt.imshow(img)\n",
    "plt.show()\n"
   ]
  },
  {
   "cell_type": "code",
   "execution_count": null,
   "id": "5a03284c-20f1-4e1e-9f9a-e3cba02793e4",
   "metadata": {},
   "outputs": [],
   "source": [
    "# All images\n",
    "dataset_folder= \"./Sign-Language-Digits-Dataset/Dataset/\"\n",
    "\n",
    "samples_per_class = {d: len(os.listdir(dataset_folder + '/' + d)) for d in os.listdir(dataset_folder)}\n",
    "\n",
    "print(f\"Number of classes: {len(os.listdir(dataset_folder))}, Number of samples: {sum(list(samples_per_class.values()))}\")  \n",
    "print(collections.OrderedDict(sorted(samples_per_class.items())))\n"
   ]
  },
  {
   "cell_type": "code",
   "execution_count": null,
   "id": "bc89540e-46d8-4e4a-ad48-d008bdafe6aa",
   "metadata": {},
   "outputs": [],
   "source": []
  }
 ],
 "metadata": {
  "environment": {
   "kernel": "python3",
   "name": "common-cpu.m100",
   "type": "gcloud",
   "uri": "gcr.io/deeplearning-platform-release/base-cpu:m100"
  },
  "kernelspec": {
   "display_name": "Python 3",
   "language": "python",
   "name": "python3"
  },
  "language_info": {
   "codemirror_mode": {
    "name": "ipython",
    "version": 3
   },
   "file_extension": ".py",
   "mimetype": "text/x-python",
   "name": "python",
   "nbconvert_exporter": "python",
   "pygments_lexer": "ipython3",
   "version": "3.7.12"
  }
 },
 "nbformat": 4,
 "nbformat_minor": 5
}
